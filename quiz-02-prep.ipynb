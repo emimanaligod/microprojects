{
  "cells": [
    {
      "cell_type": "markdown",
      "id": "52d52999",
      "metadata": {
        "id": "52d52999"
      },
      "source": [
        "# Quiz 2 Prep\n",
        "\n",
        "- The challenges here are optional and are not graded.\n",
        "- Use these challenges to prepare yourself for the upcoming quiz.\n",
        "- You will have 25 minutes to complete two questions that are similar to the ones shown here.\n",
        "\n",
        "![Brushes](https://github.com/bdi475/images/blob/main/quizzes/02/makeup-brushes.jpg?raw=true)"
      ]
    },
    {
      "cell_type": "markdown",
      "id": "dbb8486f",
      "metadata": {
        "id": "dbb8486f"
      },
      "source": [
        "▶️ First, run the code cell below to import `unittest`, a module used for **🧭 Check Your Work** sections and the autograder."
      ]
    },
    {
      "cell_type": "code",
      "execution_count": 1,
      "id": "d911d7fb",
      "metadata": {
        "id": "d911d7fb"
      },
      "outputs": [],
      "source": [
        "# DO NOT MODIFY THE CODE IN THIS CELL\n",
        "import unittest\n",
        "tc = unittest.TestCase()"
      ]
    },
    {
      "cell_type": "markdown",
      "id": "cac11410",
      "metadata": {
        "id": "cac11410"
      },
      "source": [
        "---\n",
        "\n",
        "### 🎯 Challenge 1: Average Number of Reviews using a For Loop"
      ]
    },
    {
      "cell_type": "markdown",
      "id": "66f46781",
      "metadata": {
        "id": "66f46781"
      },
      "source": [
        "You are given a `list`-type variable named `products`, which contains a list of dictionaries. Each dictionary in the list contains the brand, number of reviews, and name of a beauty product on [Sephora.com](https://www.sephora.com/). 💄\n",
        "\n",
        "## 👉 Tasks\n",
        "1. Use a `for` loop to find the average number of reviews of Laneige products (products where `\"brand\"` is `\"Laneige\"`).\n",
        "2. Store the result to a new variable named `avg_num_reviews`.\n",
        "\n",
        "## 🧭 Expected Output\n",
        "```plaintext\n",
        "Laneige products have 6084.0 reviews on average.\n",
        "```"
      ]
    },
    {
      "cell_type": "code",
      "execution_count": 3,
      "id": "2a853316",
      "metadata": {
        "id": "2a853316",
        "outputId": "5d4f4454-dc09-4124-92e0-62101c1ed024",
        "colab": {
          "base_uri": "https://localhost:8080/"
        }
      },
      "outputs": [
        {
          "output_type": "stream",
          "name": "stdout",
          "text": [
            "Laneige products have 6084.0 reviews on average.\n"
          ]
        }
      ],
      "source": [
        "my_products = [\n",
        "    {\"brand\": \"Laneige\", \"num_reviews\": 12715, \"name\": \"Lip Sleeping Mask\"},\n",
        "    {\"brand\": \"The Ordinary\", \"num_reviews\": 2274, \"name\": \"Hyaluronic Acid 2% + B5\"},\n",
        "    {\"brand\": \"Laneige\", \"num_reviews\": 2771, \"name\": \"Water Sleeping Mask\"},\n",
        "    {\"brand\": \"The Ordinary\", \"num_reviews\": 3952, \"name\": \"Niacinamide 10% + Zinc 1%\"},\n",
        "    {\"brand\": \"Chanel\", \"num_reviews\": 528, \"name\": \"CHANCE EAU TENDRE Eau de Toilette\"},\n",
        "    {\"brand\": \"Laneige\", \"num_reviews\": 2766, \"name\": \"Lip Glowy Balm\"},\n",
        "    {\"brand\": \"Chanel\", \"num_reviews\": 724, \"name\": \"COCO MADEMOISELLE Eau de Parfum\"},\n",
        "]\n",
        "\n",
        "# YOUR CODE BEGINS\n",
        "total_reviews = 0\n",
        "count = 0\n",
        "for product in my_products:\n",
        "  if product['brand'] == 'Laneige':\n",
        "    total_reviews += product['num_reviews']\n",
        "    count += 1\n",
        "    avg_num_reviews = total_reviews/count\n",
        "# YOUR CODE ENDS\n",
        "\n",
        "print(f\"Laneige products have {avg_num_reviews} reviews on average.\")"
      ]
    },
    {
      "cell_type": "markdown",
      "id": "7a2bc4ad",
      "metadata": {
        "id": "7a2bc4ad"
      },
      "source": [
        "#### 🧭 Check Your Work\n",
        "\n",
        "- Once you're done, run the code cell below to test correctness.\n",
        "- ✔️ If the code cell runs without an error, you're good to move on.\n",
        "- ❌ If the code cell throws an error, go back and fix any incorrect parts."
      ]
    },
    {
      "cell_type": "code",
      "execution_count": 4,
      "id": "6bd27917",
      "metadata": {
        "id": "6bd27917"
      },
      "outputs": [],
      "source": [
        "# DO NOT CHANGE THE CODE IN THIS CELL\n",
        "_test_case = 'average-number-of-reviews-using-a-for-loop'\n",
        "_points = 10\n",
        "_obfuscate = False\n",
        "\n",
        "tc.assertAlmostEqual(avg_num_reviews, 6084)"
      ]
    },
    {
      "cell_type": "markdown",
      "id": "22266848",
      "metadata": {
        "id": "22266848"
      },
      "source": [
        "---\n",
        "\n",
        "### 🎯 Challenge 2: Average Number of Reviews using a Function\n",
        "\n",
        "Let's make your logic from the previous question reusable by creating a function.\n",
        "\n",
        "## 👉 Task\n",
        "Create a function named `get_avg_num_reviews()` that returns the average number of reviews of products for a given brand.\n",
        "\n",
        "The `get_avg_num_reviews` function takes the following two parameters:\n",
        "\n",
        "1. `products` - This is a `list` of dictionaries. Each dictionary in the list contains the brand, number of reviews, and name of a beauty product.\n",
        "2. `brand` - This is a string value containing the brand name (e.g., `'Laneige'`).\n",
        "\n",
        "If there is no matching `brand` in the `products` list, return -1.\n",
        "\n",
        "## 💡 Example\n",
        "`get_avg_num_reviews(my_products, \"Laneige\")` should return the average number of reviews of Laneige products in `my_products` list.\n",
        "\n",
        "## 🧭 Expected Output\n",
        "```plaintext\n",
        "6084.0\n",
        "3113.0\n",
        "-1\n",
        "626.0\n",
        "11923.0\n",
        "-1\n",
        "```"
      ]
    },
    {
      "cell_type": "code",
      "execution_count": 24,
      "id": "08b5949c",
      "metadata": {
        "colab": {
          "base_uri": "https://localhost:8080/"
        },
        "id": "08b5949c",
        "outputId": "92ffd4bb-568d-42cd-fb17-d26211ffd28f"
      },
      "outputs": [
        {
          "output_type": "stream",
          "name": "stdout",
          "text": [
            "6084.0\n",
            "3113.0\n",
            "-1\n",
            "626.0\n",
            "11923.0\n",
            "-1\n"
          ]
        }
      ],
      "source": [
        "my_products = [\n",
        "    {\"brand\": \"Laneige\", \"num_reviews\": 12715, \"name\": \"Lip Sleeping Mask\"},\n",
        "    {\"brand\": \"The Ordinary\", \"num_reviews\": 2274, \"name\": \"Hyaluronic Acid 2% + B5\"},\n",
        "    {\"brand\": \"Laneige\", \"num_reviews\": 2771, \"name\": \"Water Sleeping Mask\"},\n",
        "    {\"brand\": \"The Ordinary\", \"num_reviews\": 3952, \"name\": \"Niacinamide 10% + Zinc 1%\"},\n",
        "    {\"brand\": \"Chanel\", \"num_reviews\": 528, \"name\": \"CHANCE EAU TENDRE Eau de Toilette\"},\n",
        "    {\"brand\": \"Laneige\", \"num_reviews\": 2766, \"name\": \"Lip Glowy Balm\"},\n",
        "    {\"brand\": \"Chanel\", \"num_reviews\": 724, \"name\": \"COCO MADEMOISELLE Eau de Parfum\"},\n",
        "]\n",
        "your_products = [\n",
        "    {\"brand\": \"NARS\", \"num_reviews\": 11923, \"name\": \"Radiant Creamy Concealer\"}\n",
        "]\n",
        "\n",
        "# YOUR CODE BEGINS\n",
        "\n",
        "def get_avg_num_reviews(products,brand):\n",
        "  total_reviews = 0\n",
        "  count = 0\n",
        "\n",
        "  for product in products:\n",
        "    if product['brand'] == brand:\n",
        "      total_reviews += product['num_reviews']\n",
        "      count += 1\n",
        "  if count == 0:\n",
        "    return -1\n",
        "  else:\n",
        "      avg_num_reviews = total_reviews/count\n",
        "      return avg_num_reviews\n",
        "\n",
        "\n",
        "# YOUR CODE ENDS\n",
        "\n",
        "print(get_avg_num_reviews(my_products, \"Laneige\"))\n",
        "print(get_avg_num_reviews(my_products, \"The Ordinary\"))\n",
        "print(get_avg_num_reviews(my_products, \"Sulwhasoo\")) # edge case - no matching brand, should return -1\n",
        "print(get_avg_num_reviews(my_products, \"Chanel\"))\n",
        "print(get_avg_num_reviews(your_products, \"NARS\"))\n",
        "print(get_avg_num_reviews([], \"First Aid Beauty\")) # edge case - empty, should return -1"
      ]
    },
    {
      "cell_type": "markdown",
      "id": "f78a6048",
      "metadata": {
        "id": "f78a6048"
      },
      "source": [
        "#### 🧭 Check Your Work\n",
        "\n",
        "- Once you're done, run the code cell below to test correctness.\n",
        "- ✔️ If the code cell runs without an error, you're good to move on.\n",
        "- ❌ If the code cell throws an error, go back and fix any incorrect parts."
      ]
    },
    {
      "cell_type": "code",
      "execution_count": 25,
      "id": "cd666161",
      "metadata": {
        "id": "cd666161"
      },
      "outputs": [],
      "source": [
        "# DO NOT CHANGE THE CODE IN THIS CELL\n",
        "_test_case = 'average-price-of-sneakers-using-a-function'\n",
        "_points = 15\n",
        "_obfuscate = False\n",
        "\n",
        "tc.assertAlmostEqual(get_avg_num_reviews(my_products, \"Laneige\"), 6084.0)\n",
        "tc.assertAlmostEqual(get_avg_num_reviews(my_products, \"The Ordinary\"), 3113.0)\n",
        "tc.assertAlmostEqual(get_avg_num_reviews(my_products, \"Chanel\"), 626.0)\n",
        "tc.assertAlmostEqual(get_avg_num_reviews(my_products, \"JLo Beauty\"), -1)\n",
        "tc.assertAlmostEqual(get_avg_num_reviews(your_products, \"NARS\"), 11923.0)\n",
        "tc.assertAlmostEqual(get_avg_num_reviews([], \"First Aid Beauty\"), -1)"
      ]
    }
  ],
  "metadata": {
    "kernelspec": {
      "display_name": "Python 3 (ipykernel)",
      "language": "python",
      "name": "python3"
    },
    "language_info": {
      "codemirror_mode": {
        "name": "ipython",
        "version": 3
      },
      "file_extension": ".py",
      "mimetype": "text/x-python",
      "name": "python",
      "nbconvert_exporter": "python",
      "pygments_lexer": "ipython3",
      "version": "3.10.10"
    },
    "colab": {
      "provenance": []
    }
  },
  "nbformat": 4,
  "nbformat_minor": 5
}